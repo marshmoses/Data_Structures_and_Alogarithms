{
 "cells": [
  {
   "cell_type": "code",
   "execution_count": 12,
   "metadata": {},
   "outputs": [
    {
     "name": "stdout",
     "output_type": "stream",
     "text": [
      "[10, 20, 30, 40, 50, 100]\n"
     ]
    }
   ],
   "source": [
    "#bubble_sort\n",
    "list=[20,10,30,50,40,100]\n",
    "def bubble_sort(list):\n",
    "    #first pointer beginning of an array\n",
    "    length=len(list)\n",
    "    for i in range(len(list)):#0,1,2,3,4 #o(n)\n",
    "        for j in range(len(list)-1):#o(n)\n",
    "            if list[j]>list[j+1]:\n",
    "                list[j],list[j+1]=list[j+1],list[j]\n",
    "    return list\n",
    "print(bubble_sort(list))\n",
    "\n",
    "\n",
    "\n",
    "\n"
   ]
  },
  {
   "cell_type": "code",
   "execution_count": 39,
   "metadata": {},
   "outputs": [
    {
     "name": "stdout",
     "output_type": "stream",
     "text": [
      "[10, 20, 30, 40, 50, 100]\n",
      "[1, 2, 3, 5]\n",
      "[10, 40, 45, 50, 63, 80]\n"
     ]
    }
   ],
   "source": [
    "#quicksort challenge\n",
    "my_array1=[20,10,30,50,40,100]\n",
    "my_array2=[5,2,3,1]\n",
    "my_array3=[45,10,63,40,50,80]\n",
    "\n",
    "\n",
    "def quick_sort(nums):#\n",
    "    if len(nums)<=1:\n",
    "        return nums\n",
    "    else:\n",
    "        pivot=nums[0]\n",
    "    items_greater=[x for x in nums[1:] if x>pivot]\n",
    "    items_lower=[x for x in nums[1:] if x<pivot]\n",
    "    \n",
    "    return quick_sort(items_lower)+[pivot]+quick_sort(items_greater)#\n",
    "\n",
    "print(quick_sort(my_array1))  \n",
    "print(quick_sort(my_array2)) \n",
    "print(quick_sort(my_array3))"
   ]
  },
  {
   "cell_type": "code",
   "execution_count": 40,
   "metadata": {},
   "outputs": [
    {
     "name": "stdout",
     "output_type": "stream",
     "text": [
      "1\n"
     ]
    }
   ],
   "source": [
    "#partition the first step of quicksort\n",
    "my_array1=[20,10,30,50,40,100]\n",
    "my_array2=[5,2,3,1]\n",
    "my_array3=[45,10,63,40,50,80]\n",
    "\n",
    "def partition(array,low,high):\n",
    "    pivot_idx=low\n",
    "    for i in range(low+1,high+1):\n",
    "        if array[i]<=array[low]:\n",
    "            pivot_idx+=1\n",
    "            array[i],array[pivot_idx]=array[pivot_idx],array[i]\n",
    "    array[pivot_idx],array[low]=array[low],array[pivot_idx]\n",
    "    return pivot_idx\n",
    "print(partition(my_array1,0,len(my_array1)-1))"
   ]
  },
  {
   "cell_type": "code",
   "execution_count": 48,
   "metadata": {},
   "outputs": [
    {
     "name": "stdout",
     "output_type": "stream",
     "text": [
      "[10, 20, 30, 40, 50, 100]\n",
      "[1, 2, 3, 5]\n",
      "[10, 40, 45, 50, 63, 80]\n"
     ]
    }
   ],
   "source": [
    "#quicksort\n",
    "my_array1=[20,10,30,50,40,100]\n",
    "my_array2=[5,2,3,1]\n",
    "my_array3=[45,10,63,40,50,80]\n",
    "\n",
    "def partition(arr,low,high):\n",
    "    pivot=arr[high]\n",
    "    i=low-1\n",
    "    for j in range(low,high):\n",
    "        if arr[j]<pivot:#o(n)\n",
    "            i+=1\n",
    "            arr[i],arr[j]=arr[j],arr[i]\n",
    "    arr[i+1],arr[high]=arr[high],arr[i+1]\n",
    "    return i+1\n",
    "#print(partition(my_array1,0,len(my_array1)-1))\n",
    "\n",
    "def quick_sort(arr,low,high):\n",
    "    if low<high:\n",
    "        pi=partition(arr,low,high)#pivotpoint =pi\n",
    "        quick_sort(arr,low,pi-1)#\n",
    "        quick_sort(arr,pi+1,high)\n",
    "    return arr\n",
    "print(quick_sort(my_array1,0,len(my_array1)-1))\n",
    "print(quick_sort(my_array2,0,len(my_array2)-1))\n",
    "print(quick_sort(my_array3,0,len(my_array3)-1))"
   ]
  }
 ],
 "metadata": {
  "kernelspec": {
   "display_name": "Python 3",
   "language": "python",
   "name": "python3"
  },
  "language_info": {
   "codemirror_mode": {
    "name": "ipython",
    "version": 3
   },
   "file_extension": ".py",
   "mimetype": "text/x-python",
   "name": "python",
   "nbconvert_exporter": "python",
   "pygments_lexer": "ipython3",
   "version": "3.11.5"
  }
 },
 "nbformat": 4,
 "nbformat_minor": 2
}
